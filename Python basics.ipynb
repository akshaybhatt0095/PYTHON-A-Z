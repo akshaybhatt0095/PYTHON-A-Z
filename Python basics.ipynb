{
 "cells": [
  {
   "cell_type": "markdown",
   "metadata": {},
   "source": [
    "### 1.\tGetting started with Jupyter Notebook | Python Basics\n",
    "The Jupyter Notebook is an open-source web application that allows you to create and share documents that contain live code, equations, visualizations and narrative text. Jupyter has support for over 40 different programming languages and Python is one of them. Python is a requirement (Python 3.3 or greater, or Python 2.7) for installing the Jupyter Notebook itself.\n",
    " \n",
    "### 2.\tComments in Python:\n",
    "Comments in Python start with the hash character, #, and extend to the end of the physical line. A comment may appear at the start of a line or following white space or code, but not within a string literal. A hash character within a string literal is just a hash character. Comments are to clarify code and are not interpreted by Python.\n",
    " "
   ]
  },
  {
   "cell_type": "code",
   "execution_count": 1,
   "metadata": {},
   "outputs": [
    {
     "name": "stdout",
     "output_type": "stream",
     "text": [
      "3\n"
     ]
    }
   ],
   "source": [
    "#adding of two number\n",
    "a=1 # 1 is assigned to a\n",
    "b=2 # 2 is assigned to b\n",
    "c=a+b # a+b will be assigned to c\n",
    "print(c)"
   ]
  },
  {
   "cell_type": "markdown",
   "metadata": {},
   "source": [
    "### 3.\tUsing Python as a Calculator:\n",
    "The interpreter acts as a simple calculator: you can type an expression at it and it will write the value. The operators +, -, * and / work just like in most other languages. When you type an expression with any of the operators +, -, *, / the interpreter gives the value and the syntax is straight forward.\n"
   ]
  },
  {
   "cell_type": "code",
   "execution_count": 2,
   "metadata": {},
   "outputs": [
    {
     "data": {
      "text/plain": [
       "444"
      ]
     },
     "execution_count": 2,
     "metadata": {},
     "output_type": "execute_result"
    }
   ],
   "source": [
    "222+222"
   ]
  },
  {
   "cell_type": "code",
   "execution_count": 3,
   "metadata": {},
   "outputs": [
    {
     "data": {
      "text/plain": [
       "100"
      ]
     },
     "execution_count": 3,
     "metadata": {},
     "output_type": "execute_result"
    }
   ],
   "source": [
    "200-100"
   ]
  },
  {
   "cell_type": "code",
   "execution_count": 4,
   "metadata": {},
   "outputs": [
    {
     "data": {
      "text/plain": [
       "1250.0"
      ]
     },
     "execution_count": 4,
     "metadata": {},
     "output_type": "execute_result"
    }
   ],
   "source": [
    "500*2.5"
   ]
  },
  {
   "cell_type": "code",
   "execution_count": 5,
   "metadata": {},
   "outputs": [
    {
     "data": {
      "text/plain": [
       "500.0"
      ]
     },
     "execution_count": 5,
     "metadata": {},
     "output_type": "execute_result"
    }
   ],
   "source": [
    "5000/10"
   ]
  },
  {
   "cell_type": "code",
   "execution_count": 6,
   "metadata": {},
   "outputs": [
    {
     "data": {
      "text/plain": [
       "61.0"
      ]
     },
     "execution_count": 6,
     "metadata": {},
     "output_type": "execute_result"
    }
   ],
   "source": [
    "11+100*10/20"
   ]
  },
  {
   "cell_type": "markdown",
   "metadata": {},
   "source": [
    "### Numbers:\n",
    "In python we have 3 numeric types They are:\n",
    "<li>Int </li>\n",
    "<li>Float</li>\n",
    "<li>Complex</li>\n"
   ]
  },
  {
   "cell_type": "code",
   "execution_count": 5,
   "metadata": {},
   "outputs": [
    {
     "name": "stdout",
     "output_type": "stream",
     "text": [
      "<class 'int'>\n",
      "<class 'float'>\n",
      "<class 'complex'>\n"
     ]
    }
   ],
   "source": [
    "a=10 #int\n",
    "print(type(a))\n",
    "b=20.5 #float\n",
    "print(type(b))\n",
    "c=3j+1 #complex\n",
    "print(type(c))"
   ]
  },
  {
   "cell_type": "markdown",
   "metadata": {},
   "source": [
    "#### Integer numbers have the type int and fractional part have the type float. Division always returns float. There are some other operators that we can use in python."
   ]
  },
  {
   "cell_type": "code",
   "execution_count": 6,
   "metadata": {},
   "outputs": [
    {
     "name": "stdout",
     "output_type": "stream",
     "text": [
      "11.0\n",
      "7\n",
      "5\n",
      "16\n"
     ]
    }
   ],
   "source": [
    "#classic division\n",
    "print(55/5)\n",
    "#floor division removes the factorila part and return integer\n",
    "print(22//3)\n",
    "#this operator return the remainder of the divison\n",
    "print(77%6)\n",
    "#2 to power of 4\n",
    "print(2**4)"
   ]
  },
  {
   "cell_type": "markdown",
   "metadata": {},
   "source": [
    "#### The equal sign (=) is used to assign a value to a variable. If you try to access an undefined variable it will give you a name error in interactive mode, the last printed expression is assigned to the variable"
   ]
  },
  {
   "cell_type": "markdown",
   "metadata": {},
   "source": [
    "### What are operators in python?\n",
    "Operators are special symbols in Python that carry out arithmetic or logical computation. The value that the operator operates on is called the operand."
   ]
  },
  {
   "cell_type": "code",
   "execution_count": 23,
   "metadata": {},
   "outputs": [
    {
     "data": {
      "text/plain": [
       "11"
      ]
     },
     "execution_count": 23,
     "metadata": {},
     "output_type": "execute_result"
    }
   ],
   "source": [
    "#for example\n",
    "5+6 #Here, + is the operator that performs addition. 5 and 6 are the operands and 11 is the output of the operation."
   ]
  },
  {
   "cell_type": "markdown",
   "metadata": {},
   "source": [
    "Arithmetic operators\n",
    "Arithmetic operators are used to perform mathematical operations like addition, subtraction, multiplication, etc.\n",
    "<!DOCTYPE html>\n",
    "<html>\n",
    "<head>\n",
    "<style>\n",
    "table {\n",
    "  font-family: arial, sans-serif;\n",
    "  border-collapse: collapse;\n",
    "  width: 100%;\n",
    "}\n",
    "\n",
    "td, th {\n",
    "  border: 1px solid #dddddd;\n",
    "  text-align: center;\n",
    "  padding: 8px;\n",
    "}\n",
    "\n",
    "tr:nth-child(even) {\n",
    "  background-color: #dddddd;\n",
    "}\n",
    "</style>\n",
    "</head>\n",
    "<body>\n",
    "\n",
    "<h2>Arithmetic operators</h2>\n",
    "\n",
    "<table>\n",
    "  <tr>\n",
    "    <th>Operator</th>\n",
    "    <th>Description</th>\n",
    "    <th>Example</th>\n",
    "  </tr>\n",
    "  <tr>\n",
    "    <td>+</td>\n",
    "    <td>Add two operands or unary plus</td>\n",
    "    <td>a+b</td>\n",
    "  </tr>\n",
    "  <tr>\n",
    "    <td>-</td>\n",
    "    <td>Subtract right operand from the left</td>\n",
    "    <td>a-b</td>\n",
    "  </tr>\n",
    "  <tr>\n",
    "    <td>*</td>\n",
    "    <td>Multiply two operands</td>\n",
    "    <td>a*b</td>\n",
    "  </tr>\n",
    "  <tr>\n",
    "    <td>/</td>\n",
    "    <td>Divide left operand by the right one (always results will be float)</td>\n",
    "    <td>a/b</td>\n",
    "  </tr>\n",
    "  <tr>\n",
    "    <td>%</td>\n",
    "    <td>Modulus - remainder of the division of left operand by the right</td>\n",
    "    <td>x % y (remainder of x/y)</td>\n",
    "  </tr>\n",
    "  <tr>\n",
    "    <td>//</td>\n",
    "    <td>Floor division - division that results into whole number </td>\n",
    "    <td>a//b</td>\n",
    "  </tr>\n",
    "    <tr>\n",
    "    <td>**</td>\n",
    "    <td>Exponent - left operand raised to the power of right</td>\n",
    "    <td>a**b</td>\n",
    "  </tr>\n",
    "</table>\n",
    "\n",
    "</body>\n",
    "</html>\n"
   ]
  },
  {
   "cell_type": "code",
   "execution_count": 7,
   "metadata": {},
   "outputs": [
    {
     "name": "stdout",
     "output_type": "stream",
     "text": [
      "a + b = 15\n",
      "a - b = 5\n",
      "a * b = 50\n",
      "a / b = 2.0\n",
      "a // b = 2\n",
      "a ** b = 100000\n"
     ]
    }
   ],
   "source": [
    "a = 10\n",
    "b = 5\n",
    "\n",
    "#Add two operands\n",
    "print('a + b =',a+b)\n",
    "\n",
    "#Subtract right operand from the left\n",
    "print('a - b =',a-b)\n",
    "\n",
    "#Multiply two operands\n",
    "print('a * b =',a*b)\n",
    "\n",
    "#Divide left operand by the right one\n",
    "print('a / b =',a/b)\n",
    "\n",
    "#Modulus - remainder of the division of left operand by the right\n",
    "print('a // b =',a//b)\n",
    "\n",
    "#Exponent\n",
    "print('a ** b =',a**b)"
   ]
  },
  {
   "cell_type": "markdown",
   "metadata": {},
   "source": [
    "Comparison operators\n",
    "Comparison operators are used to compare values. It returns either True or False according to the condition.\n",
    "\n",
    "<html>\n",
    "<head>\n",
    "<style>\n",
    "table {\n",
    "  font-family: arial, sans-serif;\n",
    "  border-collapse: collapse;\n",
    "  width: 100%;\n",
    "}\n",
    "\n",
    "td, th {\n",
    "  border: 1px solid #dddddd;\n",
    "  text-align: center;\n",
    "  padding: 8px;\n",
    "}\n",
    "\n",
    "tr:nth-child(even) {\n",
    "  background-color: #dddddd;\n",
    "}\n",
    "</style>\n",
    "</head>\n",
    "<body>\n",
    "\n",
    "<h2>Comparison operators</h2>\n",
    "\n",
    "<table>\n",
    "  <tr>\n",
    "    <th>Operator</th>\n",
    "    <th>Description</th>\n",
    "    <th>Example</th>\n",
    "  </tr>\n",
    "  <tr>\n",
    "    <td>></td>\n",
    "    <td>True - if left operand is greater than the right</td>\n",
    "    <td>a>b</td>\n",
    "  </tr>\n",
    "  <tr>\n",
    "    <td>&#60; </td>\n",
    "    <td>True - if left operand is less than the right</td>\n",
    "    <td>a&#60;b </td>\n",
    "  </tr>\n",
    "  <tr>\n",
    "    <td>==</td>\n",
    "    <td>True - if both the operand are equal</td>\n",
    "    <td>a==b</td>\n",
    "  </tr>\n",
    "  <tr>\n",
    "    <td>!=</td>\n",
    "    <td>True - if both the operand are not equal</td>\n",
    "    <td>a!=b</td>\n",
    "  </tr>\n",
    "  <tr>\n",
    "    <td>>=</td>\n",
    "    <td>True - if left operand is greater than or equal to the right</td>\n",
    "    <td>a>=b</td>\n",
    "  </tr>\n",
    "  <tr>\n",
    "    <td><=</td>\n",
    "    <td>True - if left operand is lessthan or equal to the right</td>\n",
    "    <td>a<=b</td>\n",
    "  </tr>\n",
    "  \n",
    "</table>\n",
    "\n",
    "</body>\n",
    "</html>\n"
   ]
  },
  {
   "cell_type": "code",
   "execution_count": 30,
   "metadata": {},
   "outputs": [
    {
     "name": "stdout",
     "output_type": "stream",
     "text": [
      "a > b is True\n",
      "a < b is False\n",
      "a == b is False\n",
      "a != b is True\n",
      "a >= b is True\n",
      "a <= b is False\n"
     ]
    }
   ],
   "source": [
    "# examples\n",
    "a = 15\n",
    "b = 12\n",
    "\n",
    "#left operand is greater than the right\n",
    "print('a > b is',a>b)\n",
    "\n",
    "#left operand is less than the right\n",
    "print('a < b is',a<b)\n",
    "\n",
    "#both the operand are equal\n",
    "print('a == b is',a==b)\n",
    "\n",
    "#both the operand are not equal\n",
    "print('a != b is',a!=b)\n",
    "\n",
    "#left operand is greater than or equal to the right\n",
    "print('a >= b is',a>=b)\n",
    "\n",
    "#left operand is lessthan or equal to the right\t\n",
    "print('a <= b is',a<=b)"
   ]
  },
  {
   "cell_type": "markdown",
   "metadata": {},
   "source": [
    "\n",
    "<html>\n",
    "<head>\n",
    "<style>\n",
    "table {\n",
    "  font-family: arial, sans-serif;\n",
    "  border-collapse: collapse;\n",
    "  width: 100%;\n",
    "}\n",
    "\n",
    "td, th {\n",
    "  border: 1px solid #dddddd;\n",
    "  text-align: center;\n",
    "  padding: 8px;\n",
    "}\n",
    "\n",
    "tr:nth-child(even) {\n",
    "  background-color: #dddddd;\n",
    "}\n",
    "</style>\n",
    "</head>\n",
    "<body>\n",
    "\n",
    "<h2>Logical operators</h2>\n",
    "\n",
    "<table>\n",
    "  <tr>\n",
    "    <th>Operator</th>\n",
    "    <th>Meaning</th>\n",
    "    <th>Example</th>\n",
    "  </tr>\n",
    "  <tr>\n",
    "    <td>and</td>\n",
    "    <td>True if both the operands are true</td>\n",
    "    <td>a and b</td>\n",
    "  </tr>\n",
    "  <tr>\n",
    "    <td>or</td>\n",
    "    <td>True - if either of the operands is true</td>\n",
    "    <td>a or b </td>\n",
    "  </tr>\n",
    "  <tr>\n",
    "    <td>not</td>\n",
    "    <td>True - if operand is false </td>\n",
    "    <td>not a</td>\n",
    "  </tr>\n",
    "  \n",
    "  \n",
    "</table>\n",
    "\n",
    "</body>\n",
    "</html>\n"
   ]
  },
  {
   "cell_type": "code",
   "execution_count": 39,
   "metadata": {},
   "outputs": [
    {
     "name": "stdout",
     "output_type": "stream",
     "text": [
      "a and b is False\n",
      "a or b is True\n",
      "not b is False\n"
     ]
    }
   ],
   "source": [
    "a = True\n",
    "b = False\n",
    "\n",
    "#and\n",
    "print('a and b is',a and b)\n",
    "#or\n",
    "print('a or b is',a or b)\n",
    "#not\n",
    "print('not b is',not a)"
   ]
  },
  {
   "cell_type": "markdown",
   "metadata": {},
   "source": [
    "#### Bitwise Operators\n",
    "bitwise operators are used to perform bitwise calculations on integers. The integers are first converted into binary and then operations are performed on bit by bit, hence the name bitwise operators. Then the result is returned in decimal format.\n",
    "\n",
    "<html>\n",
    "<head>\n",
    "<style>\n",
    "table {\n",
    "  font-family: arial, sans-serif;\n",
    "  border-collapse: collapse;\n",
    "  width: 100%;\n",
    "}\n",
    "\n",
    "td, th {\n",
    "  border: 1px solid #dddddd;\n",
    "  text-align: center;\n",
    "  padding: 8px;\n",
    "}\n",
    "\n",
    "tr:nth-child(even) {\n",
    "  background-color: #dddddd;\n",
    "}\n",
    "</style>\n",
    "</head>\n",
    "<body>\n",
    "\n",
    "<h2>Bitwise operators</h2>\n",
    "\n",
    "<table>\n",
    "  <tr>\n",
    "    <th>Operator</th>\n",
    "    <th>Description</th>\n",
    "    <th>Syntax</th>\n",
    "  </tr>\n",
    "  <tr>\n",
    "    <td>&</td>\n",
    "    <td>True if both the operands are true</td>\n",
    "    <td>a and b</td>\n",
    "  </tr>\n",
    "  <tr>\n",
    "    <td>|</td>\n",
    "    <td>True - if either of the operands is true</td>\n",
    "    <td>a or b </td>\n",
    "  </tr>\n",
    "  <tr>\n",
    "    <td>~</td>\n",
    "    <td>True - if operand is false </td>\n",
    "    <td>not a</td>\n",
    "  </tr>\n",
    "    <tr>\n",
    "    <td>^</td>\n",
    "    <td>True - if operand is false </td>\n",
    "    <td>not a</td>\n",
    "  </tr>\n",
    "    <tr>\n",
    "    <td>>></td>\n",
    "    <td>True - if operand is false </td>\n",
    "    <td>not a</td>\n",
    "  </tr>\n",
    "    <tr>\n",
    "    <td><&#60;</td>\n",
    "    <td>True - if operand is false </td>\n",
    "    <td>not a</td>\n",
    "  </tr>\n",
    "  \n",
    "  \n",
    "</table>\n",
    "\n",
    "</body>\n",
    "</html>\n",
    "\n",
    "#### Examples \n",
    "<table>\n",
    "  <tr>\n",
    "    <th>Operator</th>\n",
    "    <th>Eaxmple</th>\n",
    "    <th>Meaning</th>\n",
    "  </tr>\n",
    "  <tr>\n",
    "    <td>&</td>\n",
    "    <td>\n",
    "<pre>\n",
    "<code>\n",
    "a = 10 = 1010 (Binary)\n",
    "b = 4 =  0100 (Binary\n",
    "\n",
    "a & b = 1010\n",
    "         &\n",
    "         0100\n",
    "      = 0000\n",
    "      = 0 (Decimal)\n",
    "</code>\n",
    "</pre>\n",
    "</td>\n",
    "    <td> Returns 1 if both the bits are 1 else 0.</td>\n",
    "</tr>\n",
    "   <tr>\n",
    "    <td>|</td>\n",
    "<td>\n",
    "<pre>\n",
    "<code>\n",
    "a = 10 = 1010 (Binary)\n",
    "b = 4 =  0100 (Binary\n",
    "\n",
    "a | b = 1010\n",
    "         |\n",
    "        0100\n",
    "      = 1110\n",
    "      = 14 (Decimal)\n",
    "</code>\n",
    "</pre>\n",
    "</td>\n",
    "    <td>Returns 1 if either of the bit is 1 else 0</td>\n",
    "</tr>\n",
    "   <tr>\n",
    "    <td>~</td>\n",
    "    <td>\n",
    "<pre>\n",
    "<code>\n",
    "a = 10 = 1010 (Binary)\n",
    "\n",
    "~a = ~1010\n",
    "   = -(1010 + 1)\n",
    "   = -(1011)\n",
    "   = -11 (Decimal)\n",
    "</code>\n",
    "    </pre>\n",
    "    </td>\n",
    "    <td>Returns one’s compliement of the number.</td>\n",
    "  </tr>\n",
    "\n",
    "<tr>\n",
    "    <td>^</td>\n",
    "    <td>\n",
    "<pre>\n",
    "<code>\n",
    "a = 10 = 1010 (Binary)\n",
    "b = 4 =  0100 (Binary\n",
    "\n",
    "a & b = 1010\n",
    "         ^\n",
    "        0100\n",
    "      = 1110\n",
    "      = 14 (Decimal)\n",
    "</code>\n",
    "    </pre>\n",
    "    </td>\n",
    "    <td>Returns 1 if one of the bit is 1 and other is 0 else returns false</td>\n",
    "  </tr>\n",
    "\n",
    " </table>"
   ]
  },
  {
   "cell_type": "code",
   "execution_count": 2,
   "metadata": {},
   "outputs": [
    {
     "name": "stdout",
     "output_type": "stream",
     "text": [
      "a & b = 0\n",
      "a | b = 14\n",
      "~a = -11\n",
      "a ^ b = 14\n"
     ]
    }
   ],
   "source": [
    "# Examples\n",
    "a = 10\n",
    "b = 4\n",
    "    \n",
    "# Print bitwise AND operation    \n",
    "print(\"a & b =\", a & b)  \n",
    "    \n",
    "# Print bitwise OR operation  \n",
    "print(\"a | b =\", a | b)  \n",
    "    \n",
    "# Print bitwise NOT operation   \n",
    "print(\"~a =\", ~a)  \n",
    "    \n",
    "# print bitwise XOR operation   \n",
    "print(\"a ^ b =\", a ^ b)  "
   ]
  },
  {
   "cell_type": "markdown",
   "metadata": {},
   "source": [
    "##### Bitwise right shift: Shifts the bits of the number to the right and fills 0 on voids left as a result. Similar effect as of dividing the number with some power of two.\n",
    "<pre>\n",
    "<code>\n",
    "Example 1:\n",
    "a = 10\n",
    "a >> 1 = 5 \n",
    "\n",
    "Example 2:\n",
    "a = -10 \n",
    "a >> 1 = -5\n",
    "</code>\n",
    "    </pre>\n",
    "##### Bitwise left shift: Shifts the bits of the number to the left and fills 0 on voids left as a result. Similar effect as of multiplying the number with some power of two.\n",
    "<pre>\n",
    "<code>\n",
    "a = 5 = 0000 0101\n",
    "b = -10 = 1111 0110\n",
    "\n",
    "a << 1 = 0000 1010 = 10\n",
    "a << 2 = 0001 0100 = 20 \n",
    "\n",
    "b << 1 = 0000 1010 = -20\n",
    "b << 2 = 0001 0100 = -40 \n",
    "</pre>\n",
    "</code>\n",
    "\n",
    "\n",
    "#### bitwise operators reference from : GeeksforGeeks"
   ]
  },
  {
   "cell_type": "code",
   "execution_count": 3,
   "metadata": {},
   "outputs": [
    {
     "name": "stdout",
     "output_type": "stream",
     "text": [
      "a >> 1 = 5\n",
      "b >> 1 = -5\n",
      "a << 1 = 10\n",
      "b << 1 = -20\n"
     ]
    }
   ],
   "source": [
    "# shift operators \n",
    "a = 10\n",
    "b = -10\n",
    "# print bitwise right shift operator \n",
    "print(\"a >> 1 =\", a >> 1) \n",
    "print(\"b >> 1 =\", b >> 1) \n",
    "a = 5\n",
    "b = -10\n",
    "# print bitwise left shift operator \n",
    "print(\"a << 1 =\", a << 1) \n",
    "print(\"b << 1 =\", b << 1) \n"
   ]
  },
  {
   "cell_type": "markdown",
   "metadata": {},
   "source": [
    "##### Assignment operators\n",
    "Assignment operators are used in Python to assign values to variables.\n",
    "\n",
    "a = 5 is a simple assignment operator that assigns the value 5 on the right to the variable a on the left.\n",
    "\n",
    "There are various compound operators in Python like a += 5 that adds to the variable and later assigns the same. It is equivalent to a = a + 5.\n",
    "#### they are various compund operators:\n",
    "<html>\n",
    "<head>\n",
    "<style>\n",
    "table {\n",
    "  font-family: arial, sans-serif;\n",
    "  border-collapse: collapse;\n",
    "  width: 100%;\n",
    "}\n",
    "\n",
    "td, th {\n",
    "  border: 1px solid #dddddd;\n",
    "  text-align: center;\n",
    "  padding: 8px;\n",
    "}\n",
    "\n",
    "tr:nth-child(even) {\n",
    "  background-color: #dddddd;\n",
    "}\n",
    "</style>\n",
    "</head>\n",
    "<body>\n",
    "\n",
    "<h2>Assignment operators</h2>\n",
    "\n",
    "<table>\n",
    "  <tr>\n",
    "    <th>Operator</th>\n",
    "    <th>Description</th>\n",
    "    <th>Equivalent to <th>\n",
    "  </tr>\n",
    "  <tr>\n",
    "    <td>=</td>\n",
    "    <td>a = 10 (value 10 is assigned variable a)</td>\n",
    "    <td>a = 10</td>\n",
    "  </tr>\n",
    "    <tr>\n",
    "    <td>+=</td>\n",
    "    <td>a += 10 </td>\n",
    "    <td>a = a + 10</td>\n",
    "  </tr>\n",
    "   <tr>\n",
    "    <td>-=</td>\n",
    "    <td>a -= 10 </td>\n",
    "    <td>a = a - 10</td>\n",
    "  </tr>\n",
    "  <tr>\n",
    "    <td>*=</td>\n",
    "    <td>a *= 10 </td>\n",
    "    <td>a = a * 10</td>\n",
    "  </tr>\n",
    "   <tr>\n",
    "    <td>/=</td>\n",
    "    <td>a /= 10 </td>\n",
    "    <td>a = a / 10</td>\n",
    "  </tr>\n",
    "    <tr>\n",
    "    <td>%=</td>\n",
    "    <td>a %= 10 </td>\n",
    "    <td>a = a % 10</td>\n",
    "  </tr>\n",
    "    <tr>\n",
    "    <td>//=</td>\n",
    "    <td>a //= 10 </td>\n",
    "    <td>a = a // 10</td>\n",
    "  </tr>\n",
    "    <tr>\n",
    "    <td>**=</td>\n",
    "    <td>a **= 10 </td>\n",
    "    <td>a = a ** 10</td>\n",
    "  </tr>\n",
    "    <tr>\n",
    "    <td>&=</td>\n",
    "    <td>a &= 10 </td>\n",
    "    <td>a = a & 10</td>\n",
    "  </tr>\n",
    "    <tr>\n",
    "    <td>|=</td>\n",
    "    <td>a |= 10 </td>\n",
    "    <td>a = a | 10</td>\n",
    "  </tr>\n",
    "    <tr>\n",
    "    <td>^=</td>\n",
    "    <td>a ^= 10 </td>\n",
    "    <td>a = a ^ 10</td>\n",
    "  </tr>\n",
    "    <tr>\n",
    "    <td>>>=</td>\n",
    "    <td>a >>= 10 </td>\n",
    "    <td>a = a >> 10</td>\n",
    "  </tr>\n",
    "    <tr>\n",
    "    <td>&#60;&#60;=</td>\n",
    "    <td>a &#60;&#60;= 10 </td>\n",
    "    <td>a = a &#60;&#60; 10</td>\n",
    "  </tr>\n",
    "</table>\n",
    "\n",
    "</body>\n",
    "</html>\n",
    "\n",
    "#### Precedence of Python Operators\n",
    "The combination of values, variables, operators, and function calls is termed as an expression. The Python interpreter can evaluate a valid expression."
   ]
  },
  {
   "cell_type": "code",
   "execution_count": 4,
   "metadata": {},
   "outputs": [
    {
     "data": {
      "text/plain": [
       "3"
      ]
     },
     "execution_count": 4,
     "metadata": {},
     "output_type": "execute_result"
    }
   ],
   "source": [
    "# example\n",
    "10-7"
   ]
  },
  {
   "cell_type": "markdown",
   "metadata": {},
   "source": [
    "##### Here 10 - 7 is an expression. There can be more than one operator in an expression.\n",
    "\n",
    "##### To evaluate these types of expressions there is a rule of precedence in Python. It guides the order in which these operations are carried out.For example, multiplication has higher precedence than subtraction."
   ]
  },
  {
   "cell_type": "code",
   "execution_count": 8,
   "metadata": {},
   "outputs": [
    {
     "data": {
      "text/plain": [
       "-4"
      ]
     },
     "execution_count": 8,
     "metadata": {},
     "output_type": "execute_result"
    }
   ],
   "source": [
    "# Multiplication has higher precedence\n",
    "# than subtraction\n",
    "10 - 7 * 2"
   ]
  },
  {
   "cell_type": "markdown",
   "metadata": {},
   "source": [
    "But we can change this order using parentheses () as it has higher precedence than multiplication"
   ]
  },
  {
   "cell_type": "code",
   "execution_count": 10,
   "metadata": {},
   "outputs": [
    {
     "data": {
      "text/plain": [
       "6"
      ]
     },
     "execution_count": 10,
     "metadata": {},
     "output_type": "execute_result"
    }
   ],
   "source": [
    "#Parentheses () has higher precedence\n",
    "(10 - 7) * 2"
   ]
  },
  {
   "cell_type": "markdown",
   "metadata": {},
   "source": [
    "#### The operator precedence in Python is listed in the following table. It is in descending order (upper group has higher precedence than the lower ones)\n",
    "\n",
    "<table>\n",
    "  <tr>\n",
    "    <th>Operator</th>\n",
    "    <th>Description</th>\n",
    "   \n",
    "  </tr>\n",
    "  <tr>\n",
    "    <td><code> ()</code></td>\n",
    "    <td>Parentheses</td>\n",
    "  </tr>\n",
    "  <tr>\n",
    "    <td><code> **</code></td>\n",
    "    <td>Exponent</td>\n",
    "  </tr>\n",
    "  <tr>\n",
    "    <td><code> +X,-X,~X</code></td>\n",
    "    <td>Unary plus, Unary minus, Bitwise NOT</td>\n",
    "  </tr>\n",
    "  <tr>\n",
    "    <td><code> *,/,//,%</code></td>\n",
    "    <td>Multiplication, Division, Floor division, Modulus</td>\n",
    "  </tr>\n",
    "  <tr>\n",
    "    <td><code> +,-</code></td>\n",
    "    <td>Addition, Subtraction</td>\n",
    "  </tr>\n",
    "  <tr>\n",
    "    <td><code> <<,>></code></td>\n",
    "    <td>Bitwise shift operators</td>\n",
    "  </tr>\n",
    "   <tr>\n",
    "    <td><code>&</code></td>\n",
    "    <td>Bitwise AND</td>\n",
    "  </tr>\n",
    "   <tr>\n",
    "    <td><code>^</code></td>\n",
    "    <td>Bitwise XOR</td>\n",
    "  </tr>\n",
    "   <tr>\n",
    "    <td><code>|</code></td>\n",
    "    <td>Bitwise OR</td>\n",
    "  </tr>\n",
    "  <tr>\n",
    "    <td><code>==, !=, >, >=, <, <=, is, is not, in, not in</code></td>\n",
    "    <td>Comparisons, Identity, Membership operators</td>\n",
    "  </tr>\n",
    "  <tr>\n",
    "    <td><code>not</code></td>\n",
    "    <td>Logical NOT</td>\n",
    "  </tr>\n",
    "  <tr>\n",
    "  <td><code>and</code></td>\n",
    "    <td>Logical AND</td>\n",
    "  </tr>\n",
    "  <tr>\n",
    "  <td><code>or</code></td>\n",
    "    <td>Logical OR</td>\n",
    "  </tr>\n",
    "   </table>\n",
    "   \n",
    " #### Let's look at some examples:\n",
    "Suppose we're constructing an if...else block which runs if when lunch is either fruit or sandwich and only if money is more than or equal to 20."
   ]
  },
  {
   "cell_type": "code",
   "execution_count": 11,
   "metadata": {},
   "outputs": [
    {
     "name": "stdout",
     "output_type": "stream",
     "text": [
      "Lunch being delivered\n"
     ]
    }
   ],
   "source": [
    "# Precedence of or & and\n",
    "meal = \"fruit\"\n",
    "\n",
    "money = 0\n",
    "\n",
    "if meal == \"fruit\" or meal == \"sandwich\" and money >= 20:\n",
    "    print(\"Lunch being delivered\")\n",
    "else:\n",
    "    print(\"Can't deliver lunch\")"
   ]
  },
  {
   "cell_type": "markdown",
   "metadata": {},
   "source": [
    "This program runs if block even when money is 0. It does not give us the desired output since the precedence of and is higher than or.\n",
    "\n",
    "We can get the desired output by using parenthesis () in the following way:"
   ]
  },
  {
   "cell_type": "code",
   "execution_count": 12,
   "metadata": {},
   "outputs": [
    {
     "name": "stdout",
     "output_type": "stream",
     "text": [
      "Can't deliver lunch\n"
     ]
    }
   ],
   "source": [
    "# Precedence of or & and\n",
    "meal = \"fruit\"\n",
    "\n",
    "money = 0\n",
    "\n",
    "if (meal == \"fruit\" or meal == \"sandwich\") and money >= 20:\n",
    "    print(\"Lunch being delivered\")\n",
    "else:\n",
    "    print(\"Can't deliver lunch\")"
   ]
  },
  {
   "cell_type": "markdown",
   "metadata": {},
   "source": [
    "#### Associativity of Python Operators\n",
    "We can see in the above table that more than one operator exists in the same group. These operators have the same precedence.\n",
    "\n",
    "When two operators have the same precedence, associativity helps to determine the order of operations.\n",
    "\n",
    "Associativity is the order in which an expression is evaluated that has multiple operators of the same precedence. Almost all the operators have left-to-right associativity.\n",
    "\n",
    "For example, multiplication and floor division have the same precedence. Hence, if both of them are present in an expression, the left one is evaluated first."
   ]
  },
  {
   "cell_type": "code",
   "execution_count": 13,
   "metadata": {},
   "outputs": [
    {
     "name": "stdout",
     "output_type": "stream",
     "text": [
      "3\n",
      "0\n"
     ]
    }
   ],
   "source": [
    "# Left-right associativity\n",
    "# Output: 3\n",
    "print(5 * 2 // 3)\n",
    "\n",
    "# Shows left-right associativity\n",
    "# Output: 0\n",
    "print(5 * (2 // 3))"
   ]
  },
  {
   "cell_type": "markdown",
   "metadata": {},
   "source": [
    "#### Note: Exponent operator ** has right-to-left associativity in Python"
   ]
  },
  {
   "cell_type": "code",
   "execution_count": 14,
   "metadata": {},
   "outputs": [
    {
     "name": "stdout",
     "output_type": "stream",
     "text": [
      "512\n",
      "64\n"
     ]
    }
   ],
   "source": [
    "# Shows the right-left associativity of **\n",
    "# Output: 512, Since 2**(3**2) = 2**9\n",
    "print(2 ** 3 ** 2)\n",
    "\n",
    "# If 2 needs to be exponated fisrt, need to use ()\n",
    "# Output: 64\n",
    "print((2 ** 3) ** 2)"
   ]
  },
  {
   "cell_type": "markdown",
   "metadata": {},
   "source": [
    "###### precedence and associativity refernce from programiz"
   ]
  },
  {
   "cell_type": "markdown",
   "metadata": {},
   "source": [
    "#### Boolean Values\n",
    "In programming you often need to know if an expression is True or False"
   ]
  },
  {
   "cell_type": "code",
   "execution_count": 16,
   "metadata": {},
   "outputs": [
    {
     "name": "stdout",
     "output_type": "stream",
     "text": [
      "True\n",
      "False\n",
      "False\n"
     ]
    }
   ],
   "source": [
    "print(10 > 9)\n",
    "print(10 == 9)\n",
    "print(10 < 9)"
   ]
  },
  {
   "cell_type": "markdown",
   "metadata": {},
   "source": [
    "#### Introduction to Strings\n",
    "Strings are standard data types in python. Python can manipulate strings. They can be enclosed in single quotes ('...') or double quotes (\"...\") and (\\) can be used to escape quotes. Strings are immutable. \n",
    "Two or more strings can be concatenated using the operator (+) and same string can be repeated using operator (*). Two or more string literals next to each other are automatically concatenated.\n"
   ]
  },
  {
   "cell_type": "code",
   "execution_count": 18,
   "metadata": {},
   "outputs": [],
   "source": [
    "string=\"ScalerBit\""
   ]
  },
  {
   "cell_type": "code",
   "execution_count": 19,
   "metadata": {},
   "outputs": [],
   "source": [
    "#string indexing start from Zero"
   ]
  },
  {
   "cell_type": "code",
   "execution_count": 20,
   "metadata": {},
   "outputs": [
    {
     "data": {
      "text/plain": [
       "'S'"
      ]
     },
     "execution_count": 20,
     "metadata": {},
     "output_type": "execute_result"
    }
   ],
   "source": [
    "string[0]"
   ]
  },
  {
   "cell_type": "code",
   "execution_count": 21,
   "metadata": {},
   "outputs": [
    {
     "data": {
      "text/plain": [
       "'c'"
      ]
     },
     "execution_count": 21,
     "metadata": {},
     "output_type": "execute_result"
    }
   ],
   "source": [
    "string[1]"
   ]
  },
  {
   "cell_type": "code",
   "execution_count": 22,
   "metadata": {},
   "outputs": [
    {
     "data": {
      "text/plain": [
       "'a'"
      ]
     },
     "execution_count": 22,
     "metadata": {},
     "output_type": "execute_result"
    }
   ],
   "source": [
    "string[2]"
   ]
  },
  {
   "cell_type": "code",
   "execution_count": 23,
   "metadata": {},
   "outputs": [
    {
     "data": {
      "text/plain": [
       "'l'"
      ]
     },
     "execution_count": 23,
     "metadata": {},
     "output_type": "execute_result"
    }
   ],
   "source": [
    "string[3]"
   ]
  },
  {
   "cell_type": "code",
   "execution_count": null,
   "metadata": {},
   "outputs": [],
   "source": []
  },
  {
   "cell_type": "code",
   "execution_count": null,
   "metadata": {},
   "outputs": [],
   "source": []
  }
 ],
 "metadata": {
  "kernelspec": {
   "display_name": "Python 3",
   "language": "python",
   "name": "python3"
  },
  "language_info": {
   "codemirror_mode": {
    "name": "ipython",
    "version": 3
   },
   "file_extension": ".py",
   "mimetype": "text/x-python",
   "name": "python",
   "nbconvert_exporter": "python",
   "pygments_lexer": "ipython3",
   "version": "3.7.7"
  }
 },
 "nbformat": 4,
 "nbformat_minor": 2
}
